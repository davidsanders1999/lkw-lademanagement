{
 "cells": [
  {
   "cell_type": "code",
   "execution_count": 20,
   "metadata": {},
   "outputs": [],
   "source": [
    "import pandas as pd\n",
    "\n",
    "df_1 = pd.read_csv('/Users/davidsanders/Documents/GitHub/masterarbeit-flex-kpis/data/flex/lastgang/lastgang_cl_1_quote_80-80-80_netz_100_pow_100-100-100_pause_45-540_M_3_Cluster-1.csv', sep=';', decimal=',')\n",
    "df_2 = pd.read_csv('/Users/davidsanders/Documents/GitHub/masterarbeit-flex-kpis/data/flex/lastgang/lastgang_cl_2_quote_80-80-80_netz_100_pow_100-100-100_pause_45-540_M_1_Base.csv', sep=';', decimal=',')\n",
    "df_3 = pd.read_csv('/Users/davidsanders/Documents/GitHub/masterarbeit-flex-kpis/data/flex/lastgang/lastgang_cl_3_quote_80-80-80_netz_100_pow_100-100-100_pause_45-540_M_4_Cluster-3.csv', sep=';', decimal=',')\n"
   ]
  },
  {
   "cell_type": "code",
   "execution_count": 21,
   "metadata": {},
   "outputs": [
    {
     "data": {
      "text/plain": [
       "1"
      ]
     },
     "execution_count": 21,
     "metadata": {},
     "output_type": "execute_result"
    }
   ],
   "source": [
    "df_1 = df_1[df_1['Ladestrategie'] == 'p_max']\n",
    "df_2 = df_2[df_2['Ladestrategie'] == 'p_max']\n",
    "df_3 = df_3[df_3['Ladestrategie'] == 'p_max']\n",
    "\n",
    "df_2.groupby('Zeit_Time').size().max()"
   ]
  },
  {
   "cell_type": "code",
   "execution_count": 24,
   "metadata": {},
   "outputs": [
    {
     "name": "stdout",
     "output_type": "stream",
     "text": [
      "Energie pro Tag CL1: 43.25 MWh\n",
      "Energie pro Tag CL2: 98.61 MWh\n",
      "Energie pro Tag CL3: 164.88 MWh\n"
     ]
    }
   ],
   "source": [
    "df_1['Energie_total'] = df_1['Leistung_Total'] * 5 / 60\n",
    "df_2['Energie_total'] = df_2['Leistung_Total'] * 5 / 60\n",
    "df_3['Energie_total'] = df_3['Leistung_Total'] * 5 / 60\n",
    "\n",
    "energie_week_2 = df_2['Energie_total'].sum() / 1000  # Umrechnung in MWh\n",
    "energie_day_2 = energie_week_2 / 7  # Umrechnung in MWh\n",
    "\n",
    "energie_week_1 = df_1['Energie_total'].sum() / 1000  # Umrechnung in MWh\n",
    "energie_day_1 = energie_week_1 / 7  # Umrechnung in MWh\n",
    "\n",
    "energie_week_3 = df_3['Energie_total'].sum() / 1000  # Umrechnung in MWh\n",
    "energie_day_3 = energie_week_3 / 7  # Umrechnung in MWh\n",
    "\n",
    "\n",
    "print(f\"Energie pro Tag CL1: {energie_day_1:.2f} MWh\")\n",
    "\n",
    "print(f\"Energie pro Tag CL2: {energie_day_2:.2f} MWh\")\n",
    "\n",
    "print(f\"Energie pro Tag CL3: {energie_day_3:.2f} MWh\")\n"
   ]
  },
  {
   "cell_type": "code",
   "execution_count": 23,
   "metadata": {},
   "outputs": [
    {
     "name": "stdout",
     "output_type": "stream",
     "text": [
      "2024-12-30 23:55:00\n"
     ]
    }
   ],
   "source": [
    "print(df_2['Zeit_Time'].max())"
   ]
  },
  {
   "cell_type": "code",
   "execution_count": null,
   "metadata": {},
   "outputs": [],
   "source": []
  }
 ],
 "metadata": {
  "kernelspec": {
   "display_name": "Python 3",
   "language": "python",
   "name": "python3"
  },
  "language_info": {
   "codemirror_mode": {
    "name": "ipython",
    "version": 3
   },
   "file_extension": ".py",
   "mimetype": "text/x-python",
   "name": "python",
   "nbconvert_exporter": "python",
   "pygments_lexer": "ipython3",
   "version": "3.12.0"
  }
 },
 "nbformat": 4,
 "nbformat_minor": 2
}
