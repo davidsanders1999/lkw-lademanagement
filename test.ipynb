{
 "cells": [
  {
   "cell_type": "code",
   "execution_count": null,
   "metadata": {},
   "outputs": [
    {
     "data": {
      "text/plain": [
       "array(0.90852132)"
      ]
     },
     "execution_count": 4,
     "metadata": {},
     "output_type": "execute_result"
    }
   ],
   "source": [
    "from scipy.interpolate import interp1d\n",
    "\n",
    "xvals = [0.0, 0.2, 0.2, 0.3, 0.3, 0.4, 0.4, 0.5, 0.5, 0.6, 0.6, 0.7, 0.7, 0.8, 0.8, 1.0]\n",
    "yvals = [0.957815431, 0.957815431, 0.934481552, 0.934481552, 0.921501434, 0.921501434, 0.908521316, 0.908521316, 0.895541198, 0.895541198, 0.88256108, 0.88256108, 0.869580962, 0.869580962, 0.856600844, 0.856600844]\n",
    "\n",
    "interpolator = interp1d(xvals, yvals, fill_value=\"extrapolate\")\n",
    "\n",
    "def get_leistungsfaktor(soc):\n",
    "    \"\"\"\n",
    "    Adjust power factor based on SOC using interpolation.\n",
    "    \"\"\"\n",
    "    return interpolator(soc)\n",
    "\n",
    "get_leistungsfaktor(0.1)"
   ]
  },
  {
   "cell_type": "code",
   "execution_count": null,
   "metadata": {},
   "outputs": [],
   "source": []
  }
 ],
 "metadata": {
  "kernelspec": {
   "display_name": "Python 3",
   "language": "python",
   "name": "python3"
  },
  "language_info": {
   "codemirror_mode": {
    "name": "ipython",
    "version": 3
   },
   "file_extension": ".py",
   "mimetype": "text/x-python",
   "name": "python",
   "nbconvert_exporter": "python",
   "pygments_lexer": "ipython3",
   "version": "3.12.0"
  }
 },
 "nbformat": 4,
 "nbformat_minor": 2
}
