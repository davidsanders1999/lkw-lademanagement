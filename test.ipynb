{
 "cells": [
  {
   "cell_type": "code",
   "execution_count": 3,
   "metadata": {},
   "outputs": [],
   "source": [
    "## Laufzeit 1 min 30 sec\n",
    "\n",
    "import pandas as pd\n",
    "\n",
    "df = pd.read_csv('/Users/davidsanders/Documents/GitHub/masterarbeit-flex-kpis/data/epex/lastgang_lkw/lastgang_lkw_cl_2_quote_80-80-80_netz_100_pow_100-100-100_pause_45-540_M_1_Base.csv', sep=';', decimal=',')"
   ]
  },
  {
   "cell_type": "code",
   "execution_count": 6,
   "metadata": {},
   "outputs": [
    {
     "data": {
      "text/html": [
       "<div>\n",
       "<style scoped>\n",
       "    .dataframe tbody tr th:only-of-type {\n",
       "        vertical-align: middle;\n",
       "    }\n",
       "\n",
       "    .dataframe tbody tr th {\n",
       "        vertical-align: top;\n",
       "    }\n",
       "\n",
       "    .dataframe thead th {\n",
       "        text-align: right;\n",
       "    }\n",
       "</style>\n",
       "<table border=\"1\" class=\"dataframe\">\n",
       "  <thead>\n",
       "    <tr style=\"text-align: right;\">\n",
       "      <th></th>\n",
       "      <th>LKW_ID</th>\n",
       "      <th>Datum</th>\n",
       "      <th>Woche</th>\n",
       "      <th>Tag</th>\n",
       "      <th>Zeit</th>\n",
       "      <th>Ladetyp</th>\n",
       "      <th>Ladestrategie</th>\n",
       "      <th>Ladezeit</th>\n",
       "      <th>DayAhead</th>\n",
       "      <th>Kosten_DayAhead</th>\n",
       "      <th>Intraday</th>\n",
       "      <th>Kosten_Intraday</th>\n",
       "      <th>Leistung</th>\n",
       "      <th>SOC</th>\n",
       "      <th>Max_Leistung</th>\n",
       "      <th>Pplus</th>\n",
       "      <th>Pminus</th>\n",
       "      <th>z</th>\n",
       "    </tr>\n",
       "  </thead>\n",
       "  <tbody>\n",
       "    <tr>\n",
       "      <th>0</th>\n",
       "      <td>1</td>\n",
       "      <td>2024-01-01 00:15:00</td>\n",
       "      <td>1</td>\n",
       "      <td>1</td>\n",
       "      <td>15</td>\n",
       "      <td>NCS</td>\n",
       "      <td>DayAhead</td>\n",
       "      <td>0</td>\n",
       "      <td>0.006877</td>\n",
       "      <td>0.0</td>\n",
       "      <td>30.360</td>\n",
       "      <td>0.0</td>\n",
       "      <td>0.0</td>\n",
       "      <td>0.201897</td>\n",
       "      <td>100.0</td>\n",
       "      <td>0.0</td>\n",
       "      <td>0.0</td>\n",
       "      <td>1.0</td>\n",
       "    </tr>\n",
       "    <tr>\n",
       "      <th>1</th>\n",
       "      <td>1</td>\n",
       "      <td>2024-01-01 00:20:00</td>\n",
       "      <td>1</td>\n",
       "      <td>1</td>\n",
       "      <td>20</td>\n",
       "      <td>NCS</td>\n",
       "      <td>DayAhead</td>\n",
       "      <td>5</td>\n",
       "      <td>0.005965</td>\n",
       "      <td>0.0</td>\n",
       "      <td>21.892</td>\n",
       "      <td>0.0</td>\n",
       "      <td>0.0</td>\n",
       "      <td>0.201897</td>\n",
       "      <td>100.0</td>\n",
       "      <td>0.0</td>\n",
       "      <td>0.0</td>\n",
       "      <td>1.0</td>\n",
       "    </tr>\n",
       "    <tr>\n",
       "      <th>2</th>\n",
       "      <td>1</td>\n",
       "      <td>2024-01-01 00:25:00</td>\n",
       "      <td>1</td>\n",
       "      <td>1</td>\n",
       "      <td>25</td>\n",
       "      <td>NCS</td>\n",
       "      <td>DayAhead</td>\n",
       "      <td>10</td>\n",
       "      <td>0.005118</td>\n",
       "      <td>0.0</td>\n",
       "      <td>6.933</td>\n",
       "      <td>0.0</td>\n",
       "      <td>0.0</td>\n",
       "      <td>0.201897</td>\n",
       "      <td>100.0</td>\n",
       "      <td>0.0</td>\n",
       "      <td>0.0</td>\n",
       "      <td>1.0</td>\n",
       "    </tr>\n",
       "    <tr>\n",
       "      <th>3</th>\n",
       "      <td>1</td>\n",
       "      <td>2024-01-01 00:30:00</td>\n",
       "      <td>1</td>\n",
       "      <td>1</td>\n",
       "      <td>30</td>\n",
       "      <td>NCS</td>\n",
       "      <td>DayAhead</td>\n",
       "      <td>15</td>\n",
       "      <td>0.004336</td>\n",
       "      <td>0.0</td>\n",
       "      <td>-2.890</td>\n",
       "      <td>-0.0</td>\n",
       "      <td>0.0</td>\n",
       "      <td>0.201897</td>\n",
       "      <td>100.0</td>\n",
       "      <td>0.0</td>\n",
       "      <td>0.0</td>\n",
       "      <td>1.0</td>\n",
       "    </tr>\n",
       "    <tr>\n",
       "      <th>4</th>\n",
       "      <td>1</td>\n",
       "      <td>2024-01-01 00:35:00</td>\n",
       "      <td>1</td>\n",
       "      <td>1</td>\n",
       "      <td>35</td>\n",
       "      <td>NCS</td>\n",
       "      <td>DayAhead</td>\n",
       "      <td>20</td>\n",
       "      <td>0.003618</td>\n",
       "      <td>0.0</td>\n",
       "      <td>-5.640</td>\n",
       "      <td>-0.0</td>\n",
       "      <td>0.0</td>\n",
       "      <td>0.201897</td>\n",
       "      <td>100.0</td>\n",
       "      <td>0.0</td>\n",
       "      <td>0.0</td>\n",
       "      <td>1.0</td>\n",
       "    </tr>\n",
       "  </tbody>\n",
       "</table>\n",
       "</div>"
      ],
      "text/plain": [
       "   LKW_ID                Datum  Woche  Tag  Zeit Ladetyp Ladestrategie  \\\n",
       "0       1  2024-01-01 00:15:00      1    1    15     NCS      DayAhead   \n",
       "1       1  2024-01-01 00:20:00      1    1    20     NCS      DayAhead   \n",
       "2       1  2024-01-01 00:25:00      1    1    25     NCS      DayAhead   \n",
       "3       1  2024-01-01 00:30:00      1    1    30     NCS      DayAhead   \n",
       "4       1  2024-01-01 00:35:00      1    1    35     NCS      DayAhead   \n",
       "\n",
       "   Ladezeit  DayAhead  Kosten_DayAhead  Intraday  Kosten_Intraday  Leistung  \\\n",
       "0         0  0.006877              0.0    30.360              0.0       0.0   \n",
       "1         5  0.005965              0.0    21.892              0.0       0.0   \n",
       "2        10  0.005118              0.0     6.933              0.0       0.0   \n",
       "3        15  0.004336              0.0    -2.890             -0.0       0.0   \n",
       "4        20  0.003618              0.0    -5.640             -0.0       0.0   \n",
       "\n",
       "        SOC  Max_Leistung  Pplus  Pminus    z  \n",
       "0  0.201897         100.0    0.0     0.0  1.0  \n",
       "1  0.201897         100.0    0.0     0.0  1.0  \n",
       "2  0.201897         100.0    0.0     0.0  1.0  \n",
       "3  0.201897         100.0    0.0     0.0  1.0  \n",
       "4  0.201897         100.0    0.0     0.0  1.0  "
      ]
     },
     "execution_count": 6,
     "metadata": {},
     "output_type": "execute_result"
    }
   ],
   "source": [
    "df.head()"
   ]
  },
  {
   "cell_type": "code",
   "execution_count": 12,
   "metadata": {},
   "outputs": [
    {
     "data": {
      "text/plain": [
       "array(['NCS', 'HPC', 'MCS'], dtype=object)"
      ]
     },
     "execution_count": 12,
     "metadata": {},
     "output_type": "execute_result"
    }
   ],
   "source": [
    "df['Ladetyp'].unique()"
   ]
  },
  {
   "cell_type": "code",
   "execution_count": 13,
   "metadata": {},
   "outputs": [
    {
     "data": {
      "text/plain": [
       "array(['DayAhead', 'Intraday', 'Konstant', 'T_min'], dtype=object)"
      ]
     },
     "execution_count": 13,
     "metadata": {},
     "output_type": "execute_result"
    }
   ],
   "source": [
    "df['Ladestrategie'].unique()"
   ]
  },
  {
   "cell_type": "code",
   "execution_count": null,
   "metadata": {},
   "outputs": [],
   "source": [
    "df['Woche'].unique()"
   ]
  }
 ],
 "metadata": {
  "kernelspec": {
   "display_name": "Python 3",
   "language": "python",
   "name": "python3"
  },
  "language_info": {
   "codemirror_mode": {
    "name": "ipython",
    "version": 3
   },
   "file_extension": ".py",
   "mimetype": "text/x-python",
   "name": "python",
   "nbconvert_exporter": "python",
   "pygments_lexer": "ipython3",
   "version": "3.12.0"
  }
 },
 "nbformat": 4,
 "nbformat_minor": 2
}
